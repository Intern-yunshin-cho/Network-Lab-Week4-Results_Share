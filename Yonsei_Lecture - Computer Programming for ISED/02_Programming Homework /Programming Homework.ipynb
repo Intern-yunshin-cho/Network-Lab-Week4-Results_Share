{
  "cells": [
    {
      "cell_type": "markdown",
      "metadata": {
        "id": "view-in-github",
        "colab_type": "text"
      },
      "source": [
        "<a href=\"https://colab.research.google.com/github/Intern-yunshin-cho/Network-Lab-Week4-Results_Share/blob/main/Yonsei_Lecture%20-%20Computer%20Programming%20for%20ISED/02_Programming%20Homework%20/Programming%20Homework.ipynb\" target=\"_parent\"><img src=\"https://colab.research.google.com/assets/colab-badge.svg\" alt=\"Open In Colab\"/></a>"
      ]
    },
    {
      "cell_type": "markdown",
      "metadata": {
        "id": "oqzV_2n0_99z"
      },
      "source": [
        "# Yuna's Progrmamming Homework \n",
        "* __HomeWork01 - Week 01 - Chapter 01__\n",
        "* __HomeWork01 - Week 04 - Chapter 02__"
      ]
    },
    {
      "cell_type": "markdown",
      "metadata": {
        "id": "90CLv_FQ_990"
      },
      "source": [
        "## HomeWork01 - Week 01 - Chapter 01\n",
        "\n",
        "* Notion Page 바로보기 : [Notion Page] - ([Homework - Week 01 - Chapter 01](https://acidic-duke-bb9.notion.site/Homework-Week-01-Chapter-01-c3e8c685f280425fa5568e004f761e5d))"
      ]
    },
    {
      "cell_type": "markdown",
      "metadata": {
        "id": "pHmhaXxu_991"
      },
      "source": [
        "#### HW 1-1 \n",
        "\n",
        "Write a Python program that allows the user to enter any integer value, and displays the value of 2 raised to that power.\n",
        "\n",
        "`Input = 10`"
      ]
    },
    {
      "cell_type": "code",
      "execution_count": null,
      "metadata": {
        "id": "09LgBR0K_991",
        "outputId": "d21e5d26-73ec-4fb9-cb29-da6da9439f76"
      },
      "outputs": [
        {
          "name": "stdout",
          "output_type": "stream",
          "text": [
            "100\n"
          ]
        }
      ],
      "source": [
        "var = int(input('Press any integer value : '))\n",
        "print(var ** 2)"
      ]
    },
    {
      "cell_type": "markdown",
      "metadata": {
        "id": "jsnl-s_s_993"
      },
      "source": [
        "#### HW 1-2\n",
        "\n",
        "Write a Python program that allows the user to enter a four-digit binary number and displays its value in base 10.\n",
        "\n",
        "`Input = 1010`"
      ]
    },
    {
      "cell_type": "code",
      "execution_count": null,
      "metadata": {
        "id": "BhD-cgdl_993"
      },
      "outputs": [],
      "source": []
    },
    {
      "cell_type": "markdown",
      "metadata": {
        "id": "s-WtuNFl_993"
      },
      "source": [
        "#### HW 1-3\n",
        "\n",
        "Write a simple Python program that prompts the user for a certain number of cities for the Traveling Salesman problem, and displays the total number of possible routes that can be taken. (Note for n cities, n! route is  possible). Your program should function as shown below.\n",
        "\n",
        "`Number of cities = 10`"
      ]
    },
    {
      "cell_type": "code",
      "execution_count": null,
      "metadata": {
        "id": "ejSCRi1i_994"
      },
      "outputs": [],
      "source": []
    },
    {
      "cell_type": "markdown",
      "metadata": {
        "id": "8mSz3UJ-_995"
      },
      "source": [
        "#### HW 1-4\n",
        "\n",
        "Modify the sample \"hello\" Python program to first request the user's first name, and then request their last name. The program should then display :  \n",
        "Hello first name lastname, Welcome to Python !\n",
        "\n",
        "`Input = John Doe`"
      ]
    },
    {
      "cell_type": "code",
      "execution_count": null,
      "metadata": {
        "id": "7juAe99f_995"
      },
      "outputs": [],
      "source": []
    },
    {
      "cell_type": "markdown",
      "metadata": {
        "id": "tRMT8OTi_995"
      },
      "source": [
        "#### HW 1-5\n",
        "\n",
        "Develop and test a program that allows the user to enter an integer value indicating the number of cities to solve for the Traveling Salesman problem. The program should then output the number of years it would take to solve using a brute force-approach. \n",
        "\n",
        "Estimate the total amount of years it takes by using the assumptions given that a computer can compute the lengths of one million routs per second. Round it off for the nearest 1000 years.\n",
        "\n",
        "``"
      ]
    },
    {
      "cell_type": "code",
      "execution_count": null,
      "metadata": {
        "id": "zRO-VVbJ_996"
      },
      "outputs": [],
      "source": []
    },
    {
      "cell_type": "markdown",
      "metadata": {
        "id": "JG9trWcI_996"
      },
      "source": [
        "## HomeWork01 - Week 04 - Chapter 02\n",
        "\n",
        "* Notion Page 바로보기 : [Notion Page] - ([Homework - Week 04 - Chapter 02](https://www.notion.so/Homework-Week04-Chapter-02-ac6cbf44a5ee4df4aa7579be302a3c93))"
      ]
    },
    {
      "cell_type": "markdown",
      "metadata": {
        "id": "MkqGmM49_996"
      },
      "source": []
    }
  ],
  "metadata": {
    "kernelspec": {
      "display_name": "Python 3.10.6 ('base')",
      "language": "python",
      "name": "python3"
    },
    "language_info": {
      "codemirror_mode": {
        "name": "ipython",
        "version": 3
      },
      "file_extension": ".py",
      "mimetype": "text/x-python",
      "name": "python",
      "nbconvert_exporter": "python",
      "pygments_lexer": "ipython3",
      "version": "3.10.6"
    },
    "orig_nbformat": 4,
    "vscode": {
      "interpreter": {
        "hash": "c6e4e9f98eb68ad3b7c296f83d20e6de614cb42e90992a65aa266555a3137d0d"
      }
    },
    "colab": {
      "provenance": [],
      "include_colab_link": true
    }
  },
  "nbformat": 4,
  "nbformat_minor": 0
}